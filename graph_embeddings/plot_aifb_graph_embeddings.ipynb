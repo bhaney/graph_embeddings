{
 "cells": [
  {
   "cell_type": "code",
   "execution_count": null,
   "metadata": {},
   "outputs": [],
   "source": [
    "import pickle\n",
    "import numpy as np\n",
    "\n",
    "with open('results/rgcn_embeddings.pkl', 'rb') as inobj:\n",
    "    embeddings = pickle.load(inobj)\n",
    "\n",
    "embeddings_dict = {t[0]:t[1] for t in embeddings }"
   ]
  },
  {
   "cell_type": "code",
   "execution_count": null,
   "metadata": {},
   "outputs": [],
   "source": [
    "# Each node in the AIFB dataset is either a person, a project, a publication, a group, etc.\n",
    "# Here we get a list of all of the nodes that have a certain label and put them in a dictionary\n",
    "import re\n",
    "from future.utils import iteritems\n",
    "\n",
    "publications = re.compile(\"<(http:\\/\\/www\\.aifb\\.uni-karlsruhe\\.de\\/Publikationen\\/viewPublikationOWL\\/id[0-9]*instance)>\")\n",
    "authors = re.compile(\"<(http:\\/\\/www\\.aifb\\.uni-karlsruhe\\.de\\/Personen\\/viewPersonOWL\\/id[0-9]*instance)>\")\n",
    "groups = re.compile(\"<(http:\\/\\/www\\.aifb\\.uni-karlsruhe\\.de\\/Forschungsgruppen\\/viewForschungsgruppeOWL\\/id[0-9]*instance)>\")\n",
    "projects = re.compile(\"<(http:\\/\\/www\\.aifb\\.uni-karlsruhe\\.de\\/Projekte\\/viewProjektOWL\\/id[0-9]*instance)>\")\n",
    "subjects = re.compile(\"<(http:\\/\\/www\\.aifb\\.uni-karlsruhe\\.de\\/Forschungsgebiete\\/viewForschungsgebietOWL\\/id[0-9]*instance)>\")\n",
    "organizations = re.compile(\"<(http:\\/\\/www\\.aifb\\.uni-karlsruhe\\.de\\/Kooperationen\\/viewOrganizationOWL\\/id[0-9]*instance)>\")\n",
    "\n",
    "regex_dict = {\"publications\":publications, \"authors\":authors, \n",
    "              \"groups\":groups, \"projects\": projects, \"subjects\": subjects,\n",
    "              \"organizations\":organizations}\n",
    "\n",
    "from collections import defaultdict\n",
    "categories = defaultdict(set)\n",
    "\n",
    "with open(\"data/aifb_stripped.nt\") as f:\n",
    "    for line in f:\n",
    "        for k,reg in iteritems(regex_dict):\n",
    "            finds = reg.match(line)\n",
    "            if finds != None:\n",
    "                categories[k].add(finds.group(1))\n",
    "\n",
    "for k,v in iteritems(categories):\n",
    "    print(k,len(v))"
   ]
  },
  {
   "cell_type": "code",
   "execution_count": null,
   "metadata": {},
   "outputs": [],
   "source": [
    "import random\n",
    "#choose a random 100 instances from each category\n",
    "subset_of_categories = defaultdict(list)\n",
    "\n",
    "for k,v in iteritems(categories):\n",
    "    samples = random.sample(v, min(len(v), 100))\n",
    "    for s in samples:\n",
    "        subset_of_categories[k].append(s)\n",
    "\n",
    "for k,v in iteritems(subset_of_categories):\n",
    "    print(k,len(v))"
   ]
  },
  {
   "cell_type": "code",
   "execution_count": null,
   "metadata": {},
   "outputs": [],
   "source": [
    "%matplotlib inline\n",
    "import matplotlib\n",
    "import matplotlib.pyplot as plt\n",
    "import matplotlib.patches as mpatches\n",
    "import matplotlib.colors as mcolors\n",
    "from mpl_toolkits.mplot3d import Axes3D\n",
    "import gensim\n",
    "\n",
    "def scatterplot2D(x_coords, y_coords, vector_labels):\n",
    "    #Associate a color to each unique label  \n",
    "    label_dict = {j:i for (i,j) in enumerate(set(vector_labels))}\n",
    "    cmap = plt.cm.rainbow\n",
    "    norm = mcolors.Normalize(vmin=0, vmax=len(label_dict))\n",
    "    plt.figure(figsize=(8,6),dpi=200)\n",
    "    plt.scatter(x_coords, y_coords, alpha=0.85, c=[cmap(norm(label_dict[i])) for i in vector_labels])\n",
    "    #draw the legend\n",
    "    patches = []\n",
    "    for k,v in iteritems(label_dict):\n",
    "        patches.append(mpatches.Patch(color=cmap(norm(v)), label=k))\n",
    "    plt.legend(handles=patches)\n",
    "    #draw the scatter plot with some padding\n",
    "    x_pad = (x_coords.max()-x_coords.min())*.02\n",
    "    y_pad = (y_coords.max()-y_coords.min())*.02\n",
    "    plt.xlim(x_coords.min()-x_pad, x_coords.max()+x_pad)\n",
    "    plt.ylim(y_coords.min()-y_pad, y_coords.max()+y_pad)\n",
    "    plt.show()\n",
    "\n",
    "from sklearn.manifold import TSNE\n",
    "def tsne2D(vectors):\n",
    "    # find tsne coords for 2 dimensions\n",
    "    tsne = TSNE(n_components=2, random_state=0)\n",
    "    np.set_printoptions(suppress=True)\n",
    "    Y = tsne.fit_transform(vectors)\n",
    "    return Y\n",
    "\n",
    "import umap\n",
    "def umap2D(vectors):\n",
    "    # find umap coords for 2 dimensions\n",
    "    umapper = umap.UMAP()\n",
    "    np.set_printoptions(suppress=True)\n",
    "    Y = umapper.fit_transform(vectors)\n",
    "    return Y\n",
    " \n",
    "from sklearn.decomposition import PCA\n",
    "def pca2D(vectors):\n",
    "    # find PCA coords for 2 dimensions\n",
    "    pca = PCA(n_components=2)\n",
    "    np.set_printoptions(suppress=True)\n",
    "    Y = pca.fit_transform(vectors)\n",
    "    return Y"
   ]
  },
  {
   "cell_type": "code",
   "execution_count": null,
   "metadata": {},
   "outputs": [],
   "source": [
    "# plot the embeddings in 2D by category\n",
    "def get_category_embeddings(category_dict, embeddings_dict):\n",
    "    category_embeddings = []\n",
    "    category_labels = []\n",
    "    for k,v in iteritems(category_dict):\n",
    "        for s in v:\n",
    "            category_embeddings.append(embeddings_dict[s])\n",
    "            category_labels.append(k)\n",
    "    return (category_embeddings, category_labels)"
   ]
  },
  {
   "cell_type": "code",
   "execution_count": null,
   "metadata": {},
   "outputs": [],
   "source": [
    "category_embeddings, category_labels = get_category_embeddings(subset_of_categories, embeddings_dict)\n",
    "y = tsne2D(category_embeddings)\n",
    "#y = umap2D(category_embeddings)"
   ]
  },
  {
   "cell_type": "code",
   "execution_count": null,
   "metadata": {},
   "outputs": [],
   "source": [
    "scatterplot2D(y[:,0],y[:,1], category_labels)"
   ]
  },
  {
   "cell_type": "code",
   "execution_count": null,
   "metadata": {},
   "outputs": [],
   "source": [
    "import unicodecsv as csv\n",
    "\n",
    "def get_class_dictionary(filename, skip_first_line=False):\n",
    "    category_dict = defaultdict(list)\n",
    "    with open(filename, 'r') as csvfile:\n",
    "        graphreader = csv.reader(csvfile)\n",
    "        i = 0\n",
    "        for row in graphreader:\n",
    "            if skip_first_line and i == 0:\n",
    "                i += 1\n",
    "                continue\n",
    "            category_dict[row[1]].append(row[0])\n",
    "\n",
    "    print(\"Number of instances in each label:\")\n",
    "    for k,v in iteritems(category_dict):\n",
    "        print(k,len(v))\n",
    "    return category_dict"
   ]
  },
  {
   "cell_type": "code",
   "execution_count": null,
   "metadata": {},
   "outputs": [],
   "source": [
    "# The AIFB dataset has 176 people and they are associated with one of four affiliations in the organization.\n",
    "# The completeSet.tsv file gives the URIs of the people and their affiliation\n",
    "# (number, person, affiliation)\n",
    "people_organization_dict = get_class_dictionary('data/completeDataset.csv', True)\n",
    "people_embeddings, people_labels = get_category_embeddings(people_organization_dict, embeddings_dict)\n",
    "people_y = tsne2D(people_embeddings)\n",
    "#people_y = umap2D(people_embeddings)"
   ]
  },
  {
   "cell_type": "code",
   "execution_count": null,
   "metadata": {},
   "outputs": [],
   "source": [
    "scatterplot2D(people_y[:,0],people_y[:,1], people_labels)"
   ]
  },
  {
   "cell_type": "code",
   "execution_count": null,
   "metadata": {},
   "outputs": [],
   "source": [
    "# use clustering to do unsupervised learning on the selected embeddings\n",
    "from sklearn.cluster import KMeans, SpectralClustering\n",
    "\n",
    "def cluster_model(embeded_vectors, labels):\n",
    "    cluster_model = SpectralClustering(n_clusters=len(set(labels)))\n",
    "    all_predictions = cluster_model.fit_predict(embeded_vectors)\n",
    "    return (all_predictions)"
   ]
  },
  {
   "cell_type": "code",
   "execution_count": null,
   "metadata": {},
   "outputs": [],
   "source": [
    "#using the predicted labels for the vectors\n",
    "predicted_people_labels = cluster_model(people_embeddings, people_labels)\n",
    "scatterplot2D(people_y[:,0],people_y[:,1], predicted_people_labels)"
   ]
  },
  {
   "cell_type": "code",
   "execution_count": null,
   "metadata": {},
   "outputs": [],
   "source": [
    "#Embeddings of the projects associated with an affiliations\n",
    "projects_dict = get_class_dictionary('data/project_carried_out.csv', True)\n",
    "projects_embeddings, projects_labels = get_category_embeddings(projects_dict, embeddings_dict)\n",
    "#projects_y = tsne2D(projects_embeddings)\n",
    "projects_y = umap2D(projects_embeddings)\n",
    "predicted_projects_labels = cluster_model(projects_embeddings, projects_labels)"
   ]
  },
  {
   "cell_type": "code",
   "execution_count": null,
   "metadata": {},
   "outputs": [],
   "source": [
    "scatterplot2D(projects_y[:,0],projects_y[:,1], projects_labels)\n",
    "scatterplot2D(projects_y[:,0],projects_y[:,1], predicted_projects_labels)"
   ]
  },
  {
   "cell_type": "code",
   "execution_count": null,
   "metadata": {},
   "outputs": [],
   "source": [
    "#Embeddings of the projects and who they were financed by\n",
    "financed_dict = get_class_dictionary('data/projects_financed.csv', True)\n",
    "# Only use the financial sources that financed more than 3 project\n",
    "financed_dict = {k: v for k, v in iteritems(financed_dict) if len(v) > 3}\n",
    "print(\"Number of instances in each label:\")\n",
    "for k,v in iteritems(financed_dict):\n",
    "    print(k,len(v))"
   ]
  },
  {
   "cell_type": "code",
   "execution_count": null,
   "metadata": {},
   "outputs": [],
   "source": [
    "financed_embeddings, financed_labels = get_category_embeddings(financed_dict, embeddings_dict)\n",
    "#financed_y = tsne2D(financed_embeddings)\n",
    "financed_y = umap2D(financed_embeddings)\n",
    "predicted_financed_labels = cluster_model(financed_embeddings, financed_labels)"
   ]
  },
  {
   "cell_type": "code",
   "execution_count": null,
   "metadata": {},
   "outputs": [],
   "source": [
    "scatterplot2D(financed_y[:,0],financed_y[:,1], financed_labels)\n",
    "scatterplot2D(financed_y[:,0],financed_y[:,1], predicted_financed_labels)"
   ]
  },
  {
   "cell_type": "code",
   "execution_count": null,
   "metadata": {},
   "outputs": [],
   "source": []
  }
 ],
 "metadata": {
  "kernelspec": {
   "display_name": "Python 2",
   "language": "python",
   "name": "python2"
  },
  "language_info": {
   "codemirror_mode": {
    "name": "ipython",
    "version": 2
   },
   "file_extension": ".py",
   "mimetype": "text/x-python",
   "name": "python",
   "nbconvert_exporter": "python",
   "pygments_lexer": "ipython2",
   "version": "2.7.15"
  }
 },
 "nbformat": 4,
 "nbformat_minor": 2
}
